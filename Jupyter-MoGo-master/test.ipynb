{
 "cells": [
  {
   "cell_type": "code",
   "execution_count": 35,
   "metadata": {
    "collapsed": true
   },
   "outputs": [],
   "source": [
    "#!/usr/bin/env python"
   ]
  },
  {
   "cell_type": "code",
   "execution_count": 36,
   "metadata": {
    "collapsed": true
   },
   "outputs": [],
   "source": [
    "import unittest\n",
    "\n",
    "from gtp import pre_engine, pre_controller\n",
    "from gtp import parse_message, parse_move\n",
    "from gtp import gtp_boolean, gtp_list, gtp_color, gtp_vertex, gtp_move\n",
    "\n",
    "from gtp import BLACK, WHITE, PASS, RESIGN\n",
    "from gtp import Engine\n",
    "from gtp import MinimalGame"
   ]
  },
  {
   "cell_type": "code",
   "execution_count": 37,
   "metadata": {
    "collapsed": true
   },
   "outputs": [],
   "source": [
    "class PreProcessingTest(unittest.TestCase):\n",
    "\n",
    "    def test_pre_engine(self):\n",
    "        self.assertEqual(pre_engine(\"foo\\rbar\"), \"foobar\")\n",
    "        self.assertEqual(pre_engine(\"foo\\nbar\"), \"foo\\nbar\")\n",
    "        self.assertEqual(pre_engine(\"foo\\tbar\"), \"foo bar\")\n",
    "        self.assertEqual(pre_engine(\"foo # bar\"), \"foo \")\n",
    "\n",
    "    def test_pre_controller(self):\n",
    "        self.assertEqual(pre_controller(\"foo\\rbar\"), \"foobar\")\n",
    "        self.assertEqual(pre_controller(\"foo\\nbar\"), \"foo\\nbar\")\n",
    "        self.assertEqual(pre_controller(\"foo\\tbar\"), \"foo bar\")"
   ]
  },
  {
   "cell_type": "code",
   "execution_count": 38,
   "metadata": {
    "collapsed": true
   },
   "outputs": [],
   "source": [
    "class ParseTest(unittest.TestCase):\n",
    "\n",
    "    def test_parse_message(self):\n",
    "        self.assertEqual(parse_message(\"foo\"), (None, \"foo\", None))\n",
    "        self.assertEqual(parse_message(\"foo bar\"), (None, \"foo\", \"bar\"))\n",
    "        self.assertEqual(parse_message(\"1 foo\"), (1, \"foo\", None))\n",
    "        self.assertEqual(parse_message(\"1 foo bar\"), (1, \"foo\", \"bar\"))\n",
    "        self.assertEqual(parse_message(\"1\"), (1, None, None))\n",
    "        self.assertEqual(parse_message(\"\"), (None, \"\", None))\n",
    "        self.assertEqual(parse_message(\" \"), (None, \"\", None))\n",
    "\n",
    "    def test_parse_move(self):\n",
    "        self.assertEqual(parse_move(\"B D4\"), (BLACK, (4, 4)))\n",
    "        self.assertFalse(parse_move(\"C X\"))\n",
    "        self.assertFalse(parse_move(\"B 55\"))\n",
    "        self.assertFalse(parse_move(\"B dd\"))\n",
    "        self.assertFalse(parse_move(\"B X\"))\n",
    "        self.assertFalse(parse_move(\"B\"))\n",
    "        self.assertEqual(parse_move(\"WHITE q16 XXX\"), (WHITE, (16, 16)))\n",
    "        self.assertEqual(parse_move(\"black pass\"), (BLACK, PASS))"
   ]
  },
  {
   "cell_type": "code",
   "execution_count": 39,
   "metadata": {
    "collapsed": true
   },
   "outputs": [],
   "source": [
    "class FormatTest(unittest.TestCase):\n",
    "\n",
    "    def test_gtp_boolean(self):\n",
    "        self.assertEqual(gtp_boolean(True), \"true\")\n",
    "        self.assertEqual(gtp_boolean(False), \"false\")\n",
    "\n",
    "    def test_gtp_list(self):\n",
    "        self.assertEqual(gtp_list([\"foo\", \"bar\"]), \"foo\\nbar\")\n",
    "\n",
    "    def test_gtp_color(self):\n",
    "        self.assertEqual(gtp_color(BLACK), \"B\")\n",
    "        self.assertEqual(gtp_color(WHITE), \"W\")\n",
    "\n",
    "    def test_gtp_vertex(self):\n",
    "        self.assertEqual(gtp_vertex((4, 4)), \"D4\")\n",
    "        self.assertEqual(gtp_vertex((16, 16)), \"Q16\")\n",
    "        self.assertEqual(gtp_vertex(PASS), \"pass\")\n",
    "        self.assertEqual(gtp_vertex(RESIGN), \"resign\")\n",
    "\n",
    "    def test_gtp_move(self):\n",
    "        self.assertEqual(gtp_move(BLACK, (3, 2)), \"B C2\")"
   ]
  },
  {
   "cell_type": "code",
   "execution_count": 41,
   "metadata": {
    "collapsed": true
   },
   "outputs": [],
   "source": [
    "class CommandsTest(unittest.TestCase):\n",
    "\n",
    "    def setUp(self):\n",
    "        self.engine = Engine(MinimalGame())\n",
    "\n",
    "    def test_admin_commands(self):\n",
    "        response = self.engine.send(\"foo\\n\")\n",
    "        self.assertEqual(response, \"? unknown command\\n\\n\")\n",
    "\n",
    "        response = self.engine.send(\"protocol_version\\n\")\n",
    "        self.assertEqual(response, \"= 2\\n\\n\")\n",
    "        response = self.engine.send(\"1 protocol_version\\n\")\n",
    "        self.assertEqual(response, \"=1 2\\n\\n\")\n",
    "\n",
    "        response = self.engine.send(\"2 name\\n\")\n",
    "        self.assertEqual(response, \"=2 gtp (python library)\\n\\n\")\n",
    "\n",
    "        response = self.engine.send(\"3 version\\n\")\n",
    "        self.assertEqual(response, \"=3 0.2\\n\\n\")\n",
    "\n",
    "        response = self.engine.send(\"4 known_command name\\n\")\n",
    "        self.assertEqual(response, \"=4 true\\n\\n\")\n",
    "        response = self.engine.send(\"5 known_command foo\\n\")\n",
    "        self.assertEqual(response, \"=5 false\\n\\n\")\n",
    "\n",
    "        response = self.engine.send(\"6 list_commands\\n\")\n",
    "        self.assertEqual(\n",
    "            response,\n",
    "            \"=6 boardsize\\nclear_board\\ngenmove\\nknown_command\\nkomi\\n\"\n",
    "            \"list_commands\\nname\\nplay\\nprotocol_version\\nquit\\nversion\\n\\n\")\n",
    "\n",
    "        response = self.engine.send(\"99 quit\\n\")\n",
    "        self.assertEqual(response, \"=99\\n\\n\")\n",
    "\n",
    "    def test_core_play_commands(self):\n",
    "        response = self.engine.send(\"7 boardsize 100\")\n",
    "        self.assertEqual(response, \"?7 unacceptable size\\n\\n\")\n",
    "        response = self.engine.send(\"8 boardsize 19\")\n",
    "        self.assertEqual(response, \"=8\\n\\n\")\n",
    "        response = self.engine.send(\"9 boardsize foo\")\n",
    "        self.assertEqual(response, \"?9 non digit size\\n\\n\")\n",
    "\n",
    "        response = self.engine.send(\"9 clear_board\")\n",
    "        self.assertEqual(response, \"=9\\n\\n\")\n",
    "\n",
    "        response = self.engine.send(\"10 komi 6.5\")\n",
    "        self.assertEqual(response, \"=10\\n\\n\")\n",
    "        response = self.engine.send(\"11 komi foo\")\n",
    "        self.assertEqual(response, \"?11 syntax error\\n\\n\")\n",
    "\n",
    "    def test_core_play(self):\n",
    "        response = self.engine.send(\"12 play black D4\")\n",
    "        self.assertEqual(response, \"=12\\n\\n\")\n",
    "\n",
    "        response = self.engine.send(\"13 genmove white\")\n",
    "        # test player will always return this\n",
    "        self.assertEqual(response, \"=13 pass\\n\\n\")\n",
    "\n",
    "        response = self.engine.send(\"14 play black Z25\")\n",
    "        self.assertEqual(response, \"?14 illegal move\\n\\n\")\n",
    "\n",
    "        response = self.engine.send(\"15 play white D4\")\n",
    "        self.assertEqual(response, \"?15 illegal move\\n\\n\")\n",
    "\n",
    "        response = self.engine.send(\"16 play black pass\")\n",
    "        self.assertEqual(response, \"=16\\n\\n\")\n",
    "\n",
    "        response = self.engine.send(\"17 genmove orange\")\n",
    "        self.assertEqual(response, \"?17 unknown player: orange\\n\\n\")\n"
   ]
  },
  {
   "cell_type": "code",
   "execution_count": 42,
   "metadata": {},
   "outputs": [
    {
     "name": "stderr",
     "output_type": "stream",
     "text": [
      "E\n",
      "======================================================================\n",
      "ERROR: /run/user/1000/jupyter/kernel-3650ef37-082e-453a-b571-a11fff87bf2b (unittest.loader._FailedTest)\n",
      "----------------------------------------------------------------------\n",
      "AttributeError: module '__main__' has no attribute '/run/user/1000/jupyter/kernel-3650ef37-082e-453a-b571-a11fff87bf2b'\n",
      "\n",
      "----------------------------------------------------------------------\n",
      "Ran 1 test in 0.001s\n",
      "\n",
      "FAILED (errors=1)\n"
     ]
    },
    {
     "ename": "SystemExit",
     "evalue": "True",
     "output_type": "error",
     "traceback": [
      "An exception has occurred, use %tb to see the full traceback.\n",
      "\u001b[0;31mSystemExit\u001b[0m\u001b[0;31m:\u001b[0m True\n"
     ]
    },
    {
     "name": "stderr",
     "output_type": "stream",
     "text": [
      "/usr/local/lib/python3.5/dist-packages/IPython/core/interactiveshell.py:2855: UserWarning: To exit: use 'exit', 'quit', or Ctrl-D.\n",
      "  warn(\"To exit: use 'exit', 'quit', or Ctrl-D.\", stacklevel=1)\n"
     ]
    }
   ],
   "source": [
    "if __name__ == \"__main__\":\n",
    "    unittest.main()"
   ]
  },
  {
   "cell_type": "code",
   "execution_count": null,
   "metadata": {
    "collapsed": true
   },
   "outputs": [],
   "source": []
  }
 ],
 "metadata": {
  "kernelspec": {
   "display_name": "Python 3",
   "language": "python",
   "name": "python3"
  },
  "language_info": {
   "codemirror_mode": {
    "name": "ipython",
    "version": 3
   },
   "file_extension": ".py",
   "mimetype": "text/x-python",
   "name": "python",
   "nbconvert_exporter": "python",
   "pygments_lexer": "ipython3",
   "version": "3.5.2"
  }
 },
 "nbformat": 4,
 "nbformat_minor": 2
}
