{
 "cells": [
  {
   "cell_type": "markdown",
   "metadata": {},
   "source": [
    "'''\n",
    "Features used by AlphaGo, in approximate order of importance.\n",
    "Feature                 # Notes\n",
    "Stone colour            3 Player stones; oppo. stones; empty  \n",
    "Ones                    1 Constant plane of 1s \n",
    "    (Because of convolution w/ zero-padding, this is the only way the NN can know where the edge of the board is!!!)\n",
    "Turns since last move   8 How many turns since a move played\n",
    "Liberties               8 Number of liberties\n",
    "Capture size            8 How many opponent stones would be captured\n",
    "Self-atari size         8 How many own stones would be captured\n",
    "Liberties after move    8 Number of liberties after this move played\n",
    "ladder capture          1 Whether a move is a successful ladder cap\n",
    "Ladder escape           1 Whether a move is a successful ladder escape\n",
    "Sensibleness            1 Whether a move is legal + doesn't fill own eye\n",
    "Zeros                   1 Constant plane of 0s\n",
    "\n",
    "All features with 8 planes are 1-hot encoded, with plane i marked with 1 \n",
    "only if the feature was equal to i. Any features >= 8 would be marked as 8.\n",
    "'''\n"
   ]
  },
  {
   "cell_type": "code",
   "execution_count": 1,
   "metadata": {
    "collapsed": true
   },
   "outputs": [],
   "source": [
    "import numpy as np"
   ]
  },
  {
   "cell_type": "code",
   "execution_count": 2,
   "metadata": {},
   "outputs": [],
   "source": [
    "import go"
   ]
  },
  {
   "cell_type": "code",
   "execution_count": 3,
   "metadata": {},
   "outputs": [],
   "source": [
    "from utils import product"
   ]
  },
  {
   "cell_type": "code",
   "execution_count": 4,
   "metadata": {
    "collapsed": true
   },
   "outputs": [],
   "source": [
    "# Resolution/truncation limit for one-hot features\n",
    "P = 8"
   ]
  },
  {
   "cell_type": "code",
   "execution_count": 5,
   "metadata": {
    "collapsed": true
   },
   "outputs": [],
   "source": [
    "def make_onehot(feature, planes):\n",
    "    onehot_features = np.zeros(feature.shape + (planes,), dtype=np.uint8)\n",
    "    capped = np.minimum(feature, planes)\n",
    "    onehot_index_offsets = np.arange(0, product(onehot_features.shape), planes) + capped.ravel()\n",
    "    # A 0 is encoded as [0,0,0,0], not [1,0,0,0], so we'll\n",
    "    # filter out any offsets that are a multiple of $planes\n",
    "    # A 1 is encoded as [1,0,0,0], not [0,1,0,0], so subtract 1 from offsets\n",
    "    nonzero_elements = (capped != 0).ravel()\n",
    "    nonzero_index_offsets = onehot_index_offsets[nonzero_elements] - 1\n",
    "    onehot_features.ravel()[nonzero_index_offsets] = 1\n",
    "    return onehot_features\n"
   ]
  },
  {
   "cell_type": "code",
   "execution_count": 6,
   "metadata": {
    "collapsed": true
   },
   "outputs": [],
   "source": [
    "def planes(num_planes):\n",
    "    def deco(f):\n",
    "        f.planes = num_planes\n",
    "        return f\n",
    "    return deco"
   ]
  },
  {
   "cell_type": "code",
   "execution_count": 7,
   "metadata": {
    "collapsed": true
   },
   "outputs": [],
   "source": [
    "@planes(3)\n",
    "def stone_color_feature(position):\n",
    "    board = position.board\n",
    "    features = np.zeros([go.N, go.N, 3], dtype=np.uint8)\n",
    "    if position.to_play == go.BLACK:\n",
    "        features[board == go.BLACK, 0] = 1\n",
    "        features[board == go.WHITE, 1] = 1\n",
    "    else:\n",
    "        features[board == go.WHITE, 0] = 1\n",
    "        features[board == go.BLACK, 1] = 1\n",
    "\n",
    "    features[board == go.EMPTY, 2] = 1\n",
    "    return features\n"
   ]
  },
  {
   "cell_type": "code",
   "execution_count": 8,
   "metadata": {
    "collapsed": true
   },
   "outputs": [],
   "source": [
    "@planes(1)\n",
    "def ones_feature(position):\n",
    "    return np.ones([go.N, go.N, 1], dtype=np.uint8)\n"
   ]
  },
  {
   "cell_type": "code",
   "execution_count": 9,
   "metadata": {
    "collapsed": true
   },
   "outputs": [],
   "source": [
    "@planes(P)\n",
    "def recent_move_feature(position):\n",
    "    onehot_features = np.zeros([go.N, go.N, P], dtype=np.uint8)\n",
    "    for i, player_move in enumerate(reversed(position.recent[-P:])):\n",
    "        _, move = player_move # unpack the info from position.recent\n",
    "        if move is not None:\n",
    "            onehot_features[move[0], move[1], i] = 1\n",
    "    return onehot_features"
   ]
  },
  {
   "cell_type": "code",
   "execution_count": 10,
   "metadata": {
    "collapsed": true
   },
   "outputs": [],
   "source": [
    "@planes(P)\n",
    "def liberty_feature(position):\n",
    "    return make_onehot(position.get_liberties(), P)"
   ]
  },
  {
   "cell_type": "code",
   "execution_count": 11,
   "metadata": {
    "collapsed": true
   },
   "outputs": [],
   "source": [
    "@planes(P)\n",
    "def would_capture_feature(position):\n",
    "    features = np.zeros([go.N, go.N], dtype=np.uint8)\n",
    "    for g in position.lib_tracker.groups.values():\n",
    "        if g.color == position.to_play:\n",
    "            continue\n",
    "        if len(g.liberties) == 1:\n",
    "            last_lib = list(g.liberties)[0]\n",
    "            # += because the same spot may capture more than 1 group.\n",
    "            features[last_lib] += len(g.stones)\n",
    "    return make_onehot(features, P)"
   ]
  },
  {
   "cell_type": "code",
   "execution_count": 12,
   "metadata": {
    "collapsed": true
   },
   "outputs": [],
   "source": [
    "DEFAULT_FEATURES = [\n",
    "    stone_color_feature,\n",
    "    ones_feature,\n",
    "    liberty_feature,\n",
    "    recent_move_feature,\n",
    "    would_capture_feature,\n",
    "]"
   ]
  },
  {
   "cell_type": "code",
   "execution_count": 13,
   "metadata": {
    "collapsed": true
   },
   "outputs": [],
   "source": [
    "def extract_features(position, features=DEFAULT_FEATURES):\n",
    "    return np.concatenate([feature(position) for feature in features], axis=2)"
   ]
  },
  {
   "cell_type": "code",
   "execution_count": 14,
   "metadata": {
    "collapsed": true
   },
   "outputs": [],
   "source": [
    "def bulk_extract_features(positions, features=DEFAULT_FEATURES):\n",
    "    num_positions = len(positions)\n",
    "    num_planes = sum(f.planes for f in features)\n",
    "    output = np.zeros([num_positions, go.N, go.N, num_planes], dtype=np.uint8)\n",
    "    for i, pos in enumerate(positions):\n",
    "        output[i] = extract_features(pos, features=features)\n",
    "    return output"
   ]
  },
  {
   "cell_type": "code",
   "execution_count": null,
   "metadata": {
    "collapsed": true
   },
   "outputs": [],
   "source": []
  }
 ],
 "metadata": {
  "kernelspec": {
   "display_name": "Python 3",
   "language": "python",
   "name": "python3"
  },
  "language_info": {
   "codemirror_mode": {
    "name": "ipython",
    "version": 3
   },
   "file_extension": ".py",
   "mimetype": "text/x-python",
   "name": "python",
   "nbconvert_exporter": "python",
   "pygments_lexer": "ipython3",
   "version": "3.5.2"
  }
 },
 "nbformat": 4,
 "nbformat_minor": 2
}
