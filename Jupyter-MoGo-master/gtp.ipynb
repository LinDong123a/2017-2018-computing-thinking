{
 "cells": [
  {
   "cell_type": "code",
   "execution_count": 16,
   "metadata": {
    "collapsed": true
   },
   "outputs": [],
   "source": [
    "import re"
   ]
  },
  {
   "cell_type": "code",
   "execution_count": 17,
   "metadata": {
    "collapsed": true
   },
   "outputs": [],
   "source": [
    "def pre_engine(s):\n",
    "    s = re.sub(\"[^\\t\\n -~]\", \"\", s)\n",
    "    s = s.split(\"#\")[0]\n",
    "    s = s.replace(\"\\t\", \" \")\n",
    "    return s"
   ]
  },
  {
   "cell_type": "code",
   "execution_count": 18,
   "metadata": {
    "collapsed": true
   },
   "outputs": [],
   "source": [
    "def pre_controller(s):\n",
    "    s = re.sub(\"[^\\t\\n -~]\", \"\", s)\n",
    "    s = s.replace(\"\\t\", \" \")\n",
    "    return s"
   ]
  },
  {
   "cell_type": "code",
   "execution_count": 19,
   "metadata": {
    "collapsed": true
   },
   "outputs": [],
   "source": [
    "def gtp_boolean(b):\n",
    "    return \"true\" if b else \"false\""
   ]
  },
  {
   "cell_type": "code",
   "execution_count": 20,
   "metadata": {
    "collapsed": true
   },
   "outputs": [],
   "source": [
    "def gtp_list(l):\n",
    "    return \"\\n\".join(l)"
   ]
  },
  {
   "cell_type": "code",
   "execution_count": 21,
   "metadata": {
    "collapsed": true
   },
   "outputs": [],
   "source": [
    "def gtp_color(color):\n",
    "    # an arbitrary choice amongst a number of possibilities\n",
    "    return {BLACK: \"B\", WHITE: \"W\"}[color]"
   ]
  },
  {
   "cell_type": "code",
   "execution_count": 22,
   "metadata": {
    "collapsed": true
   },
   "outputs": [],
   "source": [
    "def gtp_vertex(vertex):\n",
    "    if vertex == PASS:\n",
    "        return \"pass\"\n",
    "    elif vertex == RESIGN:\n",
    "        return \"resign\"\n",
    "    else:\n",
    "        x, y = vertex\n",
    "        return \"{}{}\".format(\"ABCDEFGHJKLMNOPQRSTYVWYZ\"[x - 1], y)"
   ]
  },
  {
   "cell_type": "code",
   "execution_count": 23,
   "metadata": {
    "collapsed": true
   },
   "outputs": [],
   "source": [
    "def gtp_move(color, vertex):\n",
    "    return \" \".join([gtp_color(color), gtp_vertex(vertex)])"
   ]
  },
  {
   "cell_type": "code",
   "execution_count": 24,
   "metadata": {
    "collapsed": true
   },
   "outputs": [],
   "source": [
    "def parse_message(message):\n",
    "    message = pre_engine(message).strip()\n",
    "    first, rest = (message.split(\" \", 1) + [None])[:2]\n",
    "    if first.isdigit():\n",
    "        message_id = int(first)\n",
    "        if rest is not None:\n",
    "            command, arguments = (rest.split(\" \", 1) + [None])[:2]\n",
    "        else:\n",
    "            command, arguments = None, None\n",
    "    else:\n",
    "        message_id = None\n",
    "        command, arguments = first, rest\n",
    "\n",
    "    return message_id, command, arguments"
   ]
  },
  {
   "cell_type": "code",
   "execution_count": 25,
   "metadata": {
    "collapsed": true
   },
   "outputs": [],
   "source": [
    "WHITE = -1\n",
    "BLACK = +1\n",
    "EMPTY = 0"
   ]
  },
  {
   "cell_type": "code",
   "execution_count": 26,
   "metadata": {
    "collapsed": true
   },
   "outputs": [],
   "source": [
    "PASS = (0, 0)\n",
    "RESIGN = \"resign\""
   ]
  },
  {
   "cell_type": "code",
   "execution_count": 27,
   "metadata": {
    "collapsed": true
   },
   "outputs": [],
   "source": [
    "def parse_color(color):\n",
    "    if color.lower() in [\"b\", \"black\"]:\n",
    "        return BLACK\n",
    "    elif color.lower() in [\"w\", \"white\"]:\n",
    "        return WHITE\n",
    "    else:\n",
    "        return False"
   ]
  },
  {
   "cell_type": "code",
   "execution_count": 28,
   "metadata": {
    "collapsed": true
   },
   "outputs": [],
   "source": [
    "def parse_vertex(vertex_string):\n",
    "    if vertex_string is None:\n",
    "        return False\n",
    "    elif vertex_string.lower() == \"pass\":\n",
    "        return PASS\n",
    "    elif len(vertex_string) > 1:\n",
    "        x = \"abcdefghjklmnopqrstuvwxyz\".find(vertex_string[0].lower()) + 1\n",
    "        if x == 0:\n",
    "            return False\n",
    "        if vertex_string[1:].isdigit():\n",
    "            y = int(vertex_string[1:])\n",
    "        else:\n",
    "            return False\n",
    "    else:\n",
    "        return False\n",
    "    return (x, y)"
   ]
  },
  {
   "cell_type": "code",
   "execution_count": 29,
   "metadata": {
    "collapsed": true
   },
   "outputs": [],
   "source": [
    "def parse_move(move_string):\n",
    "    color_string, vertex_string = (move_string.split(\" \") + [None])[:2]\n",
    "    color = parse_color(color_string)\n",
    "    if color is False:\n",
    "        return False\n",
    "    vertex = parse_vertex(vertex_string)\n",
    "    if vertex is False:\n",
    "        return False\n",
    "\n",
    "    return color, vertex"
   ]
  },
  {
   "cell_type": "code",
   "execution_count": 30,
   "metadata": {
    "collapsed": true
   },
   "outputs": [],
   "source": [
    "MIN_BOARD_SIZE = 7\n",
    "MAX_BOARD_SIZE = 19"
   ]
  },
  {
   "cell_type": "code",
   "execution_count": 31,
   "metadata": {
    "collapsed": true
   },
   "outputs": [],
   "source": [
    "def format_success(message_id, response=None):\n",
    "    if response is None:\n",
    "        response = \"\"\n",
    "    else:\n",
    "        response = \" {}\".format(response)\n",
    "    if message_id:\n",
    "        return \"={}{}\\n\\n\".format(message_id, response)\n",
    "    else:\n",
    "        return \"={}\\n\\n\".format(response)"
   ]
  },
  {
   "cell_type": "code",
   "execution_count": 32,
   "metadata": {
    "collapsed": true
   },
   "outputs": [],
   "source": [
    "def format_error(message_id, response):\n",
    "    if response:\n",
    "        response = \" {}\".format(response)\n",
    "    if message_id:\n",
    "        return \"?{}{}\\n\\n\".format(message_id, response)\n",
    "    else:\n",
    "        return \"?{}\\n\\n\".format(response)"
   ]
  },
  {
   "cell_type": "code",
   "execution_count": 33,
   "metadata": {
    "collapsed": true
   },
   "outputs": [],
   "source": [
    "class Engine(object):\n",
    "\n",
    "    def __init__(self, game_obj, name=\"gtp (python library)\", version=\"0.2\"):\n",
    "\n",
    "        self.size = 19\n",
    "        self.komi = 6.5\n",
    "\n",
    "        self._game = game_obj\n",
    "        self._game.clear()\n",
    "\n",
    "        self._name = name\n",
    "        self._version = version\n",
    "\n",
    "        self.disconnect = False\n",
    "\n",
    "        self.known_commands = [\n",
    "            field[4:] for field in dir(self) if field.startswith(\"cmd_\")]\n",
    "\n",
    "    def send(self, message):\n",
    "        message_id, command, arguments = parse_message(message)\n",
    "        if command in self.known_commands:\n",
    "            try:\n",
    "                return format_success(\n",
    "                    message_id, getattr(self, \"cmd_\" + command)(arguments))\n",
    "            except ValueError as exception:\n",
    "                return format_error(message_id, exception.args[0])\n",
    "        else:\n",
    "            return format_error(message_id, \"unknown command\")\n",
    "\n",
    "    def vertex_in_range(self, vertex):\n",
    "        if vertex == PASS:\n",
    "            return True\n",
    "        if 1 <= vertex[0] <= self.size and 1 <= vertex[1] <= self.size:\n",
    "            return True\n",
    "        else:\n",
    "            return False\n",
    "\n",
    "    # commands\n",
    "\n",
    "    def cmd_protocol_version(self, arguments):\n",
    "        return 2\n",
    "\n",
    "    def cmd_name(self, arguments):\n",
    "        return self._name\n",
    "\n",
    "    def cmd_version(self, arguments):\n",
    "        return self._version\n",
    "\n",
    "    def cmd_known_command(self, arguments):\n",
    "        return gtp_boolean(arguments in self.known_commands)\n",
    "\n",
    "    def cmd_list_commands(self, arguments):\n",
    "        return gtp_list(self.known_commands)\n",
    "\n",
    "    def cmd_quit(self, arguments):\n",
    "        self.disconnect = True\n",
    "\n",
    "    def cmd_boardsize(self, arguments):\n",
    "        if arguments.isdigit():\n",
    "            size = int(arguments)\n",
    "            if MIN_BOARD_SIZE <= size <= MAX_BOARD_SIZE:\n",
    "                self.size = size\n",
    "                self._game.set_size(size)\n",
    "            else:\n",
    "                raise ValueError(\"unacceptable size\")\n",
    "        else:\n",
    "            raise ValueError(\"non digit size\")\n",
    "\n",
    "    def cmd_clear_board(self, arguments):\n",
    "        self._game.clear()\n",
    "\n",
    "    def cmd_komi(self, arguments):\n",
    "        try:\n",
    "            komi = float(arguments)\n",
    "            self.komi = komi\n",
    "            self._game.set_komi(komi)\n",
    "        except ValueError:\n",
    "            raise ValueError(\"syntax error\")\n",
    "\n",
    "    def cmd_play(self, arguments):\n",
    "        move = parse_move(arguments)\n",
    "        if move:\n",
    "            color, vertex = move\n",
    "            if self.vertex_in_range(vertex):\n",
    "                if self._game.make_move(color, vertex):\n",
    "                    return\n",
    "        raise ValueError(\"illegal move\")\n",
    "\n",
    "    def cmd_genmove(self, arguments):\n",
    "        c = parse_color(arguments)\n",
    "        if c:\n",
    "            move = self._game.get_move(c)\n",
    "            self._game.make_move(c, move)\n",
    "            return gtp_vertex(move)\n",
    "        else:\n",
    "            raise ValueError(\"unknown player: {}\".format(arguments))"
   ]
  },
  {
   "cell_type": "code",
   "execution_count": 34,
   "metadata": {
    "collapsed": true
   },
   "outputs": [],
   "source": [
    "class MinimalGame(object):\n",
    "\n",
    "    def __init__(self, size=19, komi=6.5):\n",
    "        self.size = size\n",
    "        self.komi = 6.5\n",
    "        self.board = [EMPTY] * (self.size * self.size)\n",
    "\n",
    "    def _flatten(self, vertex):\n",
    "        (x, y) = vertex\n",
    "        return (x - 1) * self.size + (y - 1)\n",
    "\n",
    "    def clear(self):\n",
    "        self.board = [EMPTY] * (self.size * self.size)\n",
    "\n",
    "    def make_move(self, color, vertex):\n",
    "        # no legality check other than the space being empty..\n",
    "        # no side-effects beyond placing the stone..\n",
    "        if vertex == PASS:\n",
    "            return True  # noop\n",
    "        idx = self._flatten(vertex)\n",
    "        if self.board[idx] == EMPTY:\n",
    "            self.board[idx] = color\n",
    "            return True\n",
    "        else:\n",
    "            return False\n",
    "\n",
    "    def set_size(self, n):\n",
    "        self.size = n\n",
    "        self.clear()\n",
    "\n",
    "    def set_komi(self, k):\n",
    "        self.komi = k\n",
    "\n",
    "    def get_move(self, color):\n",
    "        # pass every time. At least it's legal\n",
    "        return (0, 0)"
   ]
  },
  {
   "cell_type": "code",
   "execution_count": null,
   "metadata": {
    "collapsed": true
   },
   "outputs": [],
   "source": []
  }
 ],
 "metadata": {
  "kernelspec": {
   "display_name": "Python 3",
   "language": "python",
   "name": "python3"
  },
  "language_info": {
   "codemirror_mode": {
    "name": "ipython",
    "version": 3
   },
   "file_extension": ".py",
   "mimetype": "text/x-python",
   "name": "python",
   "nbconvert_exporter": "python",
   "pygments_lexer": "ipython3",
   "version": "3.5.2"
  }
 },
 "nbformat": 4,
 "nbformat_minor": 2
}
