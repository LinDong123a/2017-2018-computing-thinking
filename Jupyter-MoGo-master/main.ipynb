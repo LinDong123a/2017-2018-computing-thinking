{
 "cells": [
  {
   "cell_type": "code",
   "execution_count": 76,
   "metadata": {
    "collapsed": true
   },
   "outputs": [],
   "source": [
    "import argparse\n",
    "import argh\n",
    "import os\n",
    "import random\n",
    "import re\n",
    "import sys\n",
    "import gtp as gtp_lib"
   ]
  },
  {
   "cell_type": "code",
   "execution_count": 77,
   "metadata": {
    "collapsed": true
   },
   "outputs": [],
   "source": [
    "from policy import PolicyNetwork\n",
    "from strategies import RandomPlayer, PolicyNetworkBestMovePlayer, PolicyNetworkRandomMovePlayer, MCTS\n",
    "from load_data_sets import DataSet, parse_data_sets"
   ]
  },
  {
   "cell_type": "code",
   "execution_count": 78,
   "metadata": {
    "collapsed": true
   },
   "outputs": [],
   "source": [
    "TRAINING_CHUNK_RE = re.compile(r\"train\\d+\\.chunk.gz\")"
   ]
  },
  {
   "cell_type": "code",
   "execution_count": 79,
   "metadata": {
    "collapsed": true
   },
   "outputs": [],
   "source": [
    "def gtp(strategy, read_file=None):\n",
    "    n = PolicyNetwork(use_cpu=True)\n",
    "    if strategy == 'random':\n",
    "        instance = RandomPlayer()\n",
    "    elif strategy == 'policy':\n",
    "        instance = PolicyNetworkBestMovePlayer(n, read_file)\n",
    "    elif strategy == 'randompolicy':\n",
    "        instance = PolicyNetworkRandomMovePlayer(n, read_file)\n",
    "    elif strategy == 'mcts':\n",
    "        instance = MCTS(n, read_file)\n",
    "    else:\n",
    "        sys.stderr.write(\"Unknown strategy\")\n",
    "        sys.exit()\n",
    "    gtp_engine = gtp_lib.Engine(instance)\n",
    "    sys.stderr.write(\"GTP engine ready\\n\")\n",
    "    sys.stderr.flush()\n",
    "    while not gtp_engine.disconnect:\n",
    "        inpt = input()\n",
    "        # handle either single lines at a time\n",
    "        # or multiple commands separated by '\\n'\n",
    "        try:\n",
    "            cmd_list = inpt.split(\"\\n\")\n",
    "        except:\n",
    "            cmd_list = [inpt]\n",
    "        for cmd in cmd_list:\n",
    "            engine_reply = gtp_engine.send(cmd)\n",
    "            sys.stdout.write(engine_reply)\n",
    "            sys.stdout.flush()"
   ]
  },
  {
   "cell_type": "code",
   "execution_count": 80,
   "metadata": {
    "collapsed": true
   },
   "outputs": [],
   "source": [
    "def preprocess(*data_sets, processed_dir=\"processed_data\"):\n",
    "    processed_dir = os.path.join(os.getcwd(), processed_dir)\n",
    "    if not os.path.isdir(processed_dir):\n",
    "        os.mkdir(processed_dir)\n",
    "\n",
    "    test_chunk, training_chunks = parse_data_sets(*data_sets)\n",
    "    print(\"Allocating %s positions as test; remainder as training\" % len(test_chunk), file=sys.stderr)\n",
    "\n",
    "    print(\"Writing test chunk\")\n",
    "    test_dataset = DataSet.from_positions_w_context(test_chunk, is_test=True)\n",
    "    test_filename = os.path.join(processed_dir, \"test.chunk.gz\")\n",
    "    test_dataset.write(test_filename)\n",
    "\n",
    "    training_datasets = map(DataSet.from_positions_w_context, training_chunks)\n",
    "    for i, train_dataset in enumerate(training_datasets):\n",
    "        if i % 10 == 0:\n",
    "            print(\"Writing training chunk %s\" % i)\n",
    "        train_filename = os.path.join(processed_dir, \"train%s.chunk.gz\" % i)\n",
    "        train_dataset.write(train_filename)\n",
    "    print(\"%s chunks written\" % (i+1))"
   ]
  },
  {
   "cell_type": "code",
   "execution_count": 81,
   "metadata": {
    "collapsed": true
   },
   "outputs": [],
   "source": [
    "def train(processed_dir, read_file=None, save_file=None, epochs=10, logdir=None, checkpoint_freq=10000):\n",
    "    test_dataset = DataSet.read(os.path.join(processed_dir, \"test.chunk.gz\"))\n",
    "    train_chunk_files = [os.path.join(processed_dir, fname) \n",
    "        for fname in os.listdir(processed_dir)\n",
    "        if TRAINING_CHUNK_RE.match(fname)]\n",
    "    if read_file is not None:\n",
    "        read_file = os.path.join(os.getcwd(), save_file)\n",
    "    n = PolicyNetwork()\n",
    "    n.initialize_variables(read_file)\n",
    "    if logdir is not None:\n",
    "        n.initialize_logging(logdir)\n",
    "    last_save_checkpoint = 0\n",
    "    for i in range(epochs):\n",
    "        random.shuffle(train_chunk_files)\n",
    "        for file in train_chunk_files:\n",
    "            print(\"Using %s\" % file)\n",
    "            train_dataset = DataSet.read(file)\n",
    "            n.train(train_dataset)\n",
    "            n.save_variables(save_file)\n",
    "            if n.get_global_step() > last_save_checkpoint + checkpoint_freq:\n",
    "                n.check_accuracy(test_dataset)\n",
    "                last_save_checkpoint = n.get_global_step()"
   ]
  },
  {
   "cell_type": "code",
   "execution_count": 82,
   "metadata": {
    "collapsed": true
   },
   "outputs": [],
   "source": [
    "parser = argparse.ArgumentParser()\n",
    "argh.add_commands(parser, [gtp, preprocess, train])"
   ]
  },
  {
   "cell_type": "code",
   "execution_count": 83,
   "metadata": {},
   "outputs": [
    {
     "name": "stderr",
     "output_type": "stream",
     "text": [
      "usage: ipykernel_launcher.py [-h] {gtp,preprocess,train} ...\n",
      "ipykernel_launcher.py: error: invalid choice: '/run/user/1000/jupyter/kernel-ea4fb56a-1376-4e00-a9c4-7bae01921672.json' (choose from 'gtp', 'preprocess', 'train')\n"
     ]
    },
    {
     "ename": "SystemExit",
     "evalue": "2",
     "output_type": "error",
     "traceback": [
      "An exception has occurred, use %tb to see the full traceback.\n",
      "\u001b[0;31mSystemExit\u001b[0m\u001b[0;31m:\u001b[0m 2\n"
     ]
    },
    {
     "name": "stderr",
     "output_type": "stream",
     "text": [
      "/usr/local/lib/python3.5/dist-packages/IPython/core/interactiveshell.py:2855: UserWarning: To exit: use 'exit', 'quit', or Ctrl-D.\n",
      "  warn(\"To exit: use 'exit', 'quit', or Ctrl-D.\", stacklevel=1)\n"
     ]
    }
   ],
   "source": [
    "if __name__ == '__main__':\n",
    "    argh.dispatch(parser)"
   ]
  },
  {
   "cell_type": "code",
   "execution_count": null,
   "metadata": {
    "collapsed": true
   },
   "outputs": [],
   "source": []
  }
 ],
 "metadata": {
  "kernelspec": {
   "display_name": "Python 3",
   "language": "python",
   "name": "python3"
  },
  "language_info": {
   "codemirror_mode": {
    "name": "ipython",
    "version": 3
   },
   "file_extension": ".py",
   "mimetype": "text/x-python",
   "name": "python",
   "nbconvert_exporter": "python",
   "pygments_lexer": "ipython3",
   "version": "3.5.2"
  }
 },
 "nbformat": 4,
 "nbformat_minor": 2
}
