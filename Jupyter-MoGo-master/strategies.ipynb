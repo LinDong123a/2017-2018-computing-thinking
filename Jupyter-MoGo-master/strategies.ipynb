{
 "cells": [
  {
   "cell_type": "code",
   "execution_count": 49,
   "metadata": {
    "collapsed": true
   },
   "outputs": [],
   "source": [
    "import math\n",
    "import random\n",
    "import sys\n",
    "import time\n",
    "import numpy as np\n",
    "import gtp"
   ]
  },
  {
   "cell_type": "code",
   "execution_count": 50,
   "metadata": {
    "collapsed": true
   },
   "outputs": [],
   "source": [
    "import go\n",
    "import utils"
   ]
  },
  {
   "cell_type": "code",
   "execution_count": 51,
   "metadata": {
    "collapsed": true
   },
   "outputs": [],
   "source": [
    "def sorted_moves(probability_array):\n",
    "    coords = [(a, b) for a in range(go.N) for b in range(go.N)]\n",
    "    return sorted(coords, key=lambda c: probability_array[c], reverse=True)"
   ]
  },
  {
   "cell_type": "code",
   "execution_count": 52,
   "metadata": {
    "collapsed": true
   },
   "outputs": [],
   "source": [
    "def translate_gtp_colors(gtp_color):\n",
    "    if gtp_color == gtp.BLACK:\n",
    "        return go.BLACK\n",
    "    elif gtp_color == gtp.WHITE:\n",
    "        return go.WHITE\n",
    "    else:\n",
    "        return go.EMPTY"
   ]
  },
  {
   "cell_type": "code",
   "execution_count": 53,
   "metadata": {
    "collapsed": true
   },
   "outputs": [],
   "source": [
    "def is_move_reasonable(position, move):\n",
    "    return position.is_move_legal(move) and go.is_eyeish(position.board, move) != position.to_play"
   ]
  },
  {
   "cell_type": "code",
   "execution_count": 54,
   "metadata": {
    "collapsed": true
   },
   "outputs": [],
   "source": [
    "def select_most_likely(position, move_probabilities):\n",
    "    for move in sorted_moves(move_probabilities):\n",
    "        if is_move_reasonable(position, move):\n",
    "            return move\n",
    "    return None"
   ]
  },
  {
   "cell_type": "code",
   "execution_count": 55,
   "metadata": {
    "collapsed": true
   },
   "outputs": [],
   "source": [
    "def select_weighted_random(position, move_probabilities):\n",
    "    selection = random.random()\n",
    "    selected_move = None\n",
    "    current_probability = 0\n",
    "    # technically, don't have to sort in order to correctly simulate a random\n",
    "    # draw, but it cuts down on how many additions we do.\n",
    "    for move, move_prob in np.ndenumerate(move_probabilities):\n",
    "        current_probability += move_prob\n",
    "        if current_probability > selection:\n",
    "            selected_move = move\n",
    "            break\n",
    "    if is_move_reasonable(position, selected_move):\n",
    "        return selected_move\n",
    "    else:\n",
    "        # fallback in case the selected move was illegal\n",
    "        return select_most_likely(position, move_probabilities)"
   ]
  },
  {
   "cell_type": "code",
   "execution_count": 56,
   "metadata": {
    "collapsed": true
   },
   "outputs": [],
   "source": [
    "class GtpInterface(object):\n",
    "    def __init__(self):\n",
    "        self.size = 9\n",
    "        self.position = None\n",
    "        self.komi = 6.5\n",
    "        self.clear()\n",
    "\n",
    "    def set_size(self, n):\n",
    "        self.size = n\n",
    "        go.set_board_size(n)\n",
    "        self.clear()\n",
    "\n",
    "    def set_komi(self, komi):\n",
    "        self.komi = komi\n",
    "        self.position.komi = komi\n",
    "\n",
    "    def clear(self):\n",
    "        self.position = go.Position(komi=self.komi)\n",
    "\n",
    "    def accomodate_out_of_turn(self, color):\n",
    "        if not translate_gtp_colors(color) == self.position.to_play:\n",
    "            self.position.flip_playerturn(mutate=True)\n",
    "\n",
    "    def make_move(self, color, vertex):\n",
    "        coords = utils.parse_pygtp_coords(vertex)\n",
    "        self.accomodate_out_of_turn(color)\n",
    "        self.position = self.position.play_move(coords, color=translate_gtp_colors(color))\n",
    "        return self.position is not None\n",
    "\n",
    "    def get_move(self, color):\n",
    "        self.accomodate_out_of_turn(color)\n",
    "        move = self.suggest_move(self.position)\n",
    "        return utils.unparse_pygtp_coords(move)\n",
    "\n",
    "    def suggest_move(self, position):\n",
    "        raise NotImplementedError"
   ]
  },
  {
   "cell_type": "code",
   "execution_count": 57,
   "metadata": {
    "collapsed": true
   },
   "outputs": [],
   "source": [
    "class RandomPlayer(GtpInterface):\n",
    "    def suggest_move(self, position):\n",
    "        possible_moves = go.ALL_COORDS[:]\n",
    "        random.shuffle(possible_moves)\n",
    "        for move in possible_moves:\n",
    "            if is_move_reasonable(position, move):\n",
    "                return move\n",
    "        return None"
   ]
  },
  {
   "cell_type": "code",
   "execution_count": 58,
   "metadata": {
    "collapsed": true
   },
   "outputs": [],
   "source": [
    "class PolicyNetworkBestMovePlayer(GtpInterface):\n",
    "    def __init__(self, policy_network, read_file):\n",
    "        self.policy_network = policy_network\n",
    "        self.read_file = read_file\n",
    "        super().__init__()\n",
    "\n",
    "    def clear(self):\n",
    "        super().clear()\n",
    "        self.refresh_network()\n",
    "\n",
    "    def refresh_network(self):\n",
    "        # Ensure that the player is using the latest version of the network\n",
    "        # so that the network can be continually trained even as it's playing.\n",
    "        self.policy_network.initialize_variables(self.read_file)\n",
    "\n",
    "    def suggest_move(self, position):\n",
    "        if position.recent and position.n > 100 and position.recent[-1].move == None:\n",
    "            # Pass if the opponent passes\n",
    "            return None\n",
    "        move_probabilities = self.policy_network.run(position)\n",
    "        return select_most_likely(position, move_probabilities)"
   ]
  },
  {
   "cell_type": "code",
   "execution_count": 59,
   "metadata": {
    "collapsed": true
   },
   "outputs": [],
   "source": [
    "class PolicyNetworkRandomMovePlayer(GtpInterface):\n",
    "    def __init__(self, policy_network, read_file):\n",
    "        self.policy_network = policy_network\n",
    "        self.read_file = read_file\n",
    "        super().__init__()\n",
    "\n",
    "    def clear(self):\n",
    "        super().clear()\n",
    "        self.refresh_network()\n",
    "\n",
    "    def refresh_network(self):\n",
    "        # Ensure that the player is using the latest version of the network\n",
    "        # so that the network can be continually trained even as it's playing.\n",
    "        self.policy_network.initialize_variables(self.read_file)\n",
    "\n",
    "    def suggest_move(self, position):\n",
    "        if position.recent and position.n > 100 and position.recent[-1].move == None:\n",
    "            # Pass if the opponent passes\n",
    "            return None\n",
    "        move_probabilities = self.policy_network.run(position)\n",
    "        return select_weighted_random(position, move_probabilities)"
   ]
  },
  {
   "cell_type": "code",
   "execution_count": 61,
   "metadata": {
    "collapsed": true
   },
   "outputs": [],
   "source": [
    "# Exploration constant\n",
    "c_PUCT = 5"
   ]
  },
  {
   "cell_type": "code",
   "execution_count": 62,
   "metadata": {
    "collapsed": true
   },
   "outputs": [],
   "source": [
    "class MCTSNode():\n",
    "    '''\n",
    "    A MCTSNode has two states: plain, and expanded.\n",
    "    An plain MCTSNode merely knows its Q + U values, so that a decision\n",
    "    can be made about which MCTS node to expand during the selection phase.\n",
    "    When expanded, a MCTSNode also knows the actual position at that node,\n",
    "    as well as followup moves/probabilities via the policy network.\n",
    "    Each of these followup moves is instantiated as a plain MCTSNode.\n",
    "    '''\n",
    "    @staticmethod\n",
    "    def root_node(position, move_probabilities):\n",
    "        node = MCTSNode(None, None, 0)\n",
    "        node.position = position\n",
    "        node.expand(move_probabilities)\n",
    "        return node\n",
    "\n",
    "    def __init__(self, parent, move, prior):\n",
    "        self.parent = parent # pointer to another MCTSNode\n",
    "        self.move = move # the move that led to this node\n",
    "        self.prior = prior\n",
    "        self.position = None # lazily computed upon expansion\n",
    "        self.children = {} # map of moves to resulting MCTSNode\n",
    "        self.Q = self.parent.Q if self.parent is not None else 0 # average of all outcomes involving this node\n",
    "        self.U = prior # monte carlo exploration bonus\n",
    "        self.N = 0 # number of times node was visited\n",
    "\n",
    "    def __repr__(self):\n",
    "        return \"<MCTSNode move=%s prior=%s score=%s is_expanded=%s>\" % (self.move, self.prior, self.action_score, self.is_expanded())\n",
    "\n",
    "    @property\n",
    "    def action_score(self):\n",
    "        # Note to self: after adding value network, must calculate \n",
    "        # self.Q = weighted_average(avg(values), avg(rollouts)),\n",
    "        # as opposed to avg(map(weighted_average, values, rollouts))\n",
    "        return self.Q + self.U\n",
    "\n",
    "    def is_expanded(self):\n",
    "        return self.position is not None\n",
    "\n",
    "    def compute_position(self):\n",
    "        self.position = self.parent.position.play_move(self.move)\n",
    "        return self.position\n",
    "\n",
    "    def expand(self, move_probabilities):\n",
    "        self.children = {move: MCTSNode(self, move, prob)\n",
    "            for move, prob in np.ndenumerate(move_probabilities)}\n",
    "        # Pass should always be an option! Say, for example, seki.\n",
    "        self.children[None] = MCTSNode(self, None, 0)\n",
    "\n",
    "    def backup_value(self, value):\n",
    "        self.N += 1\n",
    "        if self.parent is None:\n",
    "            # No point in updating Q / U values for root, since they are\n",
    "            # used to decide between children nodes.\n",
    "            return\n",
    "        self.Q, self.U = (\n",
    "            self.Q + (value - self.Q) / self.N,\n",
    "            c_PUCT * math.sqrt(self.parent.N) * self.prior / self.N,\n",
    "        )\n",
    "        # must invert, because alternate layers have opposite desires\n",
    "        self.parent.backup_value(-value)\n",
    "\n",
    "    def select_leaf(self):\n",
    "        current = self\n",
    "        while current.is_expanded():\n",
    "            current = max(current.children.values(), key=lambda node: node.action_score)\n",
    "        return current"
   ]
  },
  {
   "cell_type": "code",
   "execution_count": 63,
   "metadata": {
    "collapsed": true
   },
   "outputs": [],
   "source": [
    "class MCTS(GtpInterface):\n",
    "    def __init__(self, policy_network, read_file, seconds_per_move=5):\n",
    "        self.policy_network = policy_network\n",
    "        self.seconds_per_move = seconds_per_move\n",
    "        self.max_rollout_depth = go.N * go.N * 3\n",
    "        self.read_file = read_file\n",
    "        super().__init__()\n",
    "\n",
    "    def clear(self):\n",
    "        super().clear()\n",
    "        self.refresh_network()\n",
    "\n",
    "    def refresh_network(self):\n",
    "        # Ensure that the player is using the latest version of the network\n",
    "        # so that the network can be continually trained even as it's playing.\n",
    "        self.policy_network.initialize_variables(self.read_file)\n",
    "\n",
    "    def suggest_move(self, position):\n",
    "        if position.caps[0] + 50 < position.caps[1]:\n",
    "            return gtp.RESIGN\n",
    "        start = time.time()\n",
    "        move_probs = self.policy_network.run(position)\n",
    "        root = MCTSNode.root_node(position, move_probs)\n",
    "        while time.time() - start < self.seconds_per_move:\n",
    "            self.tree_search(root)\n",
    "        # there's a theoretical bug here: if you refuse to pass, this AI will\n",
    "        # eventually start filling in its own eyes.\n",
    "        return max(root.children.keys(), key=lambda move, root=root: root.children[move].N)\n",
    "\n",
    "    def tree_search(self, root):\n",
    "        print(\"tree search\", file=sys.stderr)\n",
    "        # selection\n",
    "        chosen_leaf = root.select_leaf()\n",
    "        # expansion\n",
    "        position = chosen_leaf.compute_position()\n",
    "        if position is None:\n",
    "            print(\"illegal move!\", file=sys.stderr)\n",
    "            # See go.Position.play_move for notes on detecting legality\n",
    "            del chosen_leaf.parent.children[chosen_leaf.move]\n",
    "            return\n",
    "        print(\"Investigating following position:\\n%s\" % (chosen_leaf.position,), file=sys.stderr)\n",
    "        move_probs = self.policy_network.run(position)\n",
    "        chosen_leaf.expand(move_probs)\n",
    "        # evaluation\n",
    "        value = self.estimate_value(root, chosen_leaf)\n",
    "        # backup\n",
    "        print(\"value: %s\" % value, file=sys.stderr)\n",
    "        chosen_leaf.backup_value(value)\n",
    "\n",
    "    def estimate_value(self, root, chosen_leaf):\n",
    "        # Estimate value of position using rollout only (for now).\n",
    "        # (TODO: Value network; average the value estimations from rollout + value network)\n",
    "        leaf_position = chosen_leaf.position\n",
    "        current = copy.deepcopy(leaf_position)\n",
    "        while current.n < self.max_rollout_depth:\n",
    "            move_probs = self.policy_network.run(current)\n",
    "            current = self.play_valid_move(current, move_probs)\n",
    "            if len(current.recent) > 2 and current.recent[-1].move == current.recent[-2].move == None:\n",
    "                break\n",
    "        else:\n",
    "            print(\"max rollout depth exceeded!\", file=sys.stderr)\n",
    "\n",
    "        perspective = 1 if leaf_position.to_play == root.position.to_play else -1\n",
    "        return current.score() * perspective\n",
    "\n",
    "    def play_valid_move(self, position, move_probs):\n",
    "        for move in sorted_moves(move_probs):\n",
    "            if go.is_eyeish(position.board, move):\n",
    "                continue\n",
    "            try:\n",
    "                candidate_pos = position.play_move(move, mutate=True)\n",
    "            except go.IllegalMove:\n",
    "                continue\n",
    "            else:\n",
    "                return candidate_pos\n",
    "        return position.pass_move(mutate=True)"
   ]
  },
  {
   "cell_type": "code",
   "execution_count": null,
   "metadata": {
    "collapsed": true
   },
   "outputs": [],
   "source": []
  }
 ],
 "metadata": {
  "kernelspec": {
   "display_name": "Python 3",
   "language": "python",
   "name": "python3"
  },
  "language_info": {
   "codemirror_mode": {
    "name": "ipython",
    "version": 3
   },
   "file_extension": ".py",
   "mimetype": "text/x-python",
   "name": "python",
   "nbconvert_exporter": "python",
   "pygments_lexer": "ipython3",
   "version": "3.5.2"
  }
 },
 "nbformat": 4,
 "nbformat_minor": 2
}
