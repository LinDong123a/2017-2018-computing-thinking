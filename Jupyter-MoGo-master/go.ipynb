{
 "cells": [
  {
   "cell_type": "markdown",
   "metadata": {},
   "source": [
    "'''\n",
    "A board is a NxN numpy array.\n",
    "A Coordinate is a tuple index into the board.\n",
    "A Move is a (Coordinate c | None).\n",
    "A PlayerMove is a (Color, Move) tuple\n",
    "\n",
    "(0, 0) is considered to be the upper left corner of the board, and (18, 0) is the lower left.\n",
    "'''"
   ]
  },
  {
   "cell_type": "code",
   "execution_count": 1,
   "metadata": {
    "collapsed": true
   },
   "outputs": [],
   "source": [
    "from collections import namedtuple"
   ]
  },
  {
   "cell_type": "code",
   "execution_count": 2,
   "metadata": {
    "collapsed": true
   },
   "outputs": [],
   "source": [
    "import copy"
   ]
  },
  {
   "cell_type": "code",
   "execution_count": 3,
   "metadata": {
    "collapsed": true
   },
   "outputs": [],
   "source": [
    "import itertools"
   ]
  },
  {
   "cell_type": "code",
   "execution_count": 4,
   "metadata": {
    "collapsed": true
   },
   "outputs": [],
   "source": [
    "import numpy as np"
   ]
  },
  {
   "cell_type": "code",
   "execution_count": 5,
   "metadata": {
    "collapsed": true
   },
   "outputs": [],
   "source": [
    "# Represent a board as a numpy array, with 0 empty, 1 is black, -1 is white.\n",
    "# This means that swapping colors is as simple as multiplying array by -1.\n",
    "WHITE, EMPTY, BLACK, FILL, KO, UNKNOWN = range(-1, 5)"
   ]
  },
  {
   "cell_type": "code",
   "execution_count": 6,
   "metadata": {
    "collapsed": true
   },
   "outputs": [],
   "source": [
    "class PlayerMove(namedtuple('PlayerMove', ['color', 'move'])): pass"
   ]
  },
  {
   "cell_type": "code",
   "execution_count": 7,
   "metadata": {
    "collapsed": true
   },
   "outputs": [],
   "source": [
    "# Represents \"group not found\" in the LibertyTracker object\n",
    "MISSING_GROUP_ID = -1"
   ]
  },
  {
   "cell_type": "code",
   "execution_count": 8,
   "metadata": {
    "collapsed": true
   },
   "outputs": [],
   "source": [
    "class IllegalMove(Exception): pass"
   ]
  },
  {
   "cell_type": "code",
   "execution_count": 9,
   "metadata": {
    "collapsed": true
   },
   "outputs": [],
   "source": [
    "# these are initialized by set_board_size\n",
    "N = None\n",
    "ALL_COORDS = []\n",
    "EMPTY_BOARD = None\n",
    "NEIGHBORS = {}\n",
    "DIAGONALS = {}"
   ]
  },
  {
   "cell_type": "code",
   "execution_count": 10,
   "metadata": {
    "collapsed": true
   },
   "outputs": [],
   "source": [
    "def set_board_size(n):\n",
    "    '''\n",
    "    Hopefully nobody tries to run both 9x9 and 19x19 game instances at once.\n",
    "    Also, never do \"from go import N, W, ALL_COORDS, EMPTY_BOARD\".\n",
    "    '''\n",
    "    global N, ALL_COORDS, EMPTY_BOARD, NEIGHBORS, DIAGONALS\n",
    "    if N == n: return\n",
    "    N = n\n",
    "    ALL_COORDS = [(i, j) for i in range(n) for j in range(n)]\n",
    "    EMPTY_BOARD = np.zeros([n, n], dtype=np.int8)\n",
    "    def check_bounds(c):\n",
    "        return c[0] % n == c[0] and c[1] % n == c[1]\n",
    "\n",
    "    NEIGHBORS = {(x, y): list(filter(check_bounds, [(x+1, y), (x-1, y), (x, y+1), (x, y-1)])) for x, y in ALL_COORDS}\n",
    "    DIAGONALS = {(x, y): list(filter(check_bounds, [(x+1, y+1), (x+1, y-1), (x-1, y+1), (x-1, y-1)])) for x, y in ALL_COORDS}"
   ]
  },
  {
   "cell_type": "code",
   "execution_count": 11,
   "metadata": {
    "collapsed": true
   },
   "outputs": [],
   "source": [
    "def place_stones(board, color, stones):\n",
    "    for s in stones:\n",
    "        board[s] = color"
   ]
  },
  {
   "cell_type": "code",
   "execution_count": 12,
   "metadata": {
    "collapsed": true
   },
   "outputs": [],
   "source": [
    "def find_reached(board, c):\n",
    "    color = board[c]\n",
    "    chain = set([c])\n",
    "    reached = set()\n",
    "    frontier = [c]\n",
    "    while frontier:\n",
    "        current = frontier.pop()\n",
    "        chain.add(current)\n",
    "        for n in NEIGHBORS[current]:\n",
    "            if board[n] == color and not n in chain:\n",
    "                frontier.append(n)\n",
    "            elif board[n] != color:\n",
    "                reached.add(n)\n",
    "    return chain, reached"
   ]
  },
  {
   "cell_type": "code",
   "execution_count": 13,
   "metadata": {
    "collapsed": true
   },
   "outputs": [],
   "source": [
    "def is_koish(board, c):\n",
    "    'Check if c is surrounded on all sides by 1 color, and return that color'\n",
    "    if board[c] != EMPTY: return None\n",
    "    neighbors = {board[n] for n in NEIGHBORS[c]}\n",
    "    if len(neighbors) == 1 and not EMPTY in neighbors:\n",
    "        return list(neighbors)[0]\n",
    "    else:\n",
    "        return None"
   ]
  },
  {
   "cell_type": "code",
   "execution_count": 14,
   "metadata": {
    "collapsed": true
   },
   "outputs": [],
   "source": [
    "def is_eyeish(board, c):\n",
    "    'Check if c is an eye, for the purpose of restricting MC rollouts.'\n",
    "    color = is_koish(board, c)\n",
    "    if color is None:\n",
    "        return None\n",
    "    diagonal_faults = 0\n",
    "    diagonals = DIAGONALS[c]\n",
    "    if len(diagonals) < 4:\n",
    "        diagonal_faults += 1\n",
    "    for d in diagonals:\n",
    "        if not board[d] in (color, EMPTY):\n",
    "            diagonal_faults += 1\n",
    "    if diagonal_faults > 1:\n",
    "        return None\n",
    "    else:\n",
    "        return color"
   ]
  },
  {
   "cell_type": "code",
   "execution_count": 15,
   "metadata": {
    "collapsed": true
   },
   "outputs": [],
   "source": [
    "class Group(namedtuple('Group', ['id', 'stones', 'liberties', 'color'])):\n",
    "    '''\n",
    "    stones: a set of Coordinates belonging to this group\n",
    "    liberties: a set of Coordinates that are empty and adjacent to this group.\n",
    "    color: color of this group\n",
    "    '''\n",
    "    def __eq__(self, other):\n",
    "        return self.stones == other.stones and self.liberties == other.liberties and self.color == other.color"
   ]
  },
  {
   "cell_type": "code",
   "execution_count": 17,
   "metadata": {
    "collapsed": true
   },
   "outputs": [],
   "source": [
    "class LibertyTracker():\n",
    "    @staticmethod\n",
    "    def from_board(board):\n",
    "        board = np.copy(board)\n",
    "        curr_group_id = 0\n",
    "        lib_tracker = LibertyTracker()\n",
    "        for color in (WHITE, BLACK):\n",
    "            while color in board:\n",
    "                curr_group_id += 1\n",
    "                found_color = np.where(board == color)\n",
    "                coord = found_color[0][0], found_color[1][0]\n",
    "                chain, reached = find_reached(board, coord)\n",
    "                liberties = set(r for r in reached if board[r] == EMPTY)\n",
    "                new_group = Group(curr_group_id, chain, liberties, color)\n",
    "                lib_tracker.groups[curr_group_id] = new_group\n",
    "                for s in chain:\n",
    "                    lib_tracker.group_index[s] = curr_group_id\n",
    "                place_stones(board, FILL, chain)\n",
    "\n",
    "        lib_tracker.max_group_id = curr_group_id\n",
    "\n",
    "        liberty_counts = np.zeros([N, N], dtype=np.uint8)\n",
    "        for group in lib_tracker.groups.values():\n",
    "            num_libs = len(group.liberties)\n",
    "            for s in group.stones:\n",
    "                liberty_counts[s] = num_libs\n",
    "        lib_tracker.liberty_cache = liberty_counts\n",
    "\n",
    "        return lib_tracker\n",
    "\n",
    "    def __init__(self, group_index=None, groups=None, liberty_cache=None, max_group_id=1):\n",
    "        # group_index: a NxN numpy array of group_ids. -1 means no group\n",
    "        # groups: a dict of group_id to groups\n",
    "        # liberty_cache: a NxN numpy array of liberty counts\n",
    "        self.group_index = group_index if group_index is not None else -np.ones([N, N], dtype=np.int16)\n",
    "        self.groups = groups or {}\n",
    "        self.liberty_cache = liberty_cache if liberty_cache is not None else np.zeros([N, N], dtype=np.uint8)\n",
    "        self.max_group_id = max_group_id\n",
    "\n",
    "    def __deepcopy__(self, memodict={}):\n",
    "        new_group_index = np.copy(self.group_index)\n",
    "        new_lib_cache = np.copy(self.liberty_cache)\n",
    "        new_groups = {\n",
    "            group.id: Group(group.id, set(group.stones), set(group.liberties), group.color)\n",
    "            for group in self.groups.values()\n",
    "        }\n",
    "        return LibertyTracker(new_group_index, new_groups, liberty_cache=new_lib_cache, max_group_id=self.max_group_id)\n",
    "\n",
    "    def add_stone(self, color, c):\n",
    "        assert self.group_index[c] == MISSING_GROUP_ID\n",
    "        captured_stones = set()\n",
    "        opponent_neighboring_group_ids = set()\n",
    "        friendly_neighboring_group_ids = set()\n",
    "        empty_neighbors = set()\n",
    "\n",
    "        for n in NEIGHBORS[c]:\n",
    "            neighbor_group_id = self.group_index[n]\n",
    "            if neighbor_group_id != MISSING_GROUP_ID:\n",
    "                neighbor_group = self.groups[neighbor_group_id]\n",
    "                if neighbor_group.color == color:\n",
    "                    friendly_neighboring_group_ids.add(neighbor_group_id)\n",
    "                else:\n",
    "                    opponent_neighboring_group_ids.add(neighbor_group_id)\n",
    "            else:\n",
    "                empty_neighbors.add(n)\n",
    "\n",
    "        new_group = self._create_group(color, c, empty_neighbors)\n",
    "\n",
    "        for group_id in friendly_neighboring_group_ids:\n",
    "            new_group = self._merge_groups(group_id, new_group.id)\n",
    "\n",
    "        for group_id in opponent_neighboring_group_ids:\n",
    "            neighbor_group = self.groups[group_id]\n",
    "            if len(neighbor_group.liberties) == 1:\n",
    "                captured = self._capture_group(group_id)\n",
    "                captured_stones.update(captured)\n",
    "            else:\n",
    "                self._update_liberties(group_id, remove={c})\n",
    "\n",
    "        self._handle_captures(captured_stones)\n",
    "\n",
    "        # suicide is illegal\n",
    "        if len(new_group.liberties) == 0:\n",
    "            raise IllegalMove\n",
    "\n",
    "        return captured_stones\n",
    "\n",
    "    def _create_group(self, color, c, liberties):\n",
    "        self.max_group_id += 1\n",
    "        new_group = Group(self.max_group_id, set([c]), liberties, color)\n",
    "        self.groups[new_group.id] = new_group\n",
    "        self.group_index[c] = new_group.id\n",
    "        self.liberty_cache[c] = len(liberties)\n",
    "        return new_group\n",
    "\n",
    "    def _merge_groups(self, group1_id, group2_id):\n",
    "        group1 = self.groups[group1_id]\n",
    "        group2 = self.groups[group2_id]\n",
    "        group1.stones.update(group2.stones)\n",
    "        del self.groups[group2_id]\n",
    "        for s in group2.stones:\n",
    "            self.group_index[s] = group1_id\n",
    "\n",
    "        self._update_liberties(group1_id, add=group2.liberties, remove=(group2.stones | group1.stones))\n",
    "\n",
    "        return group1\n",
    "\n",
    "    def _capture_group(self, group_id):\n",
    "        dead_group = self.groups[group_id]\n",
    "        del self.groups[group_id]\n",
    "        for s in dead_group.stones:\n",
    "            self.group_index[s] = MISSING_GROUP_ID\n",
    "            self.liberty_cache[s] = 0\n",
    "        return dead_group.stones\n",
    "\n",
    "    def _update_liberties(self, group_id, add=None, remove=None):\n",
    "        group = self.groups[group_id]\n",
    "        if add:\n",
    "            group.liberties.update(add)\n",
    "        if remove:\n",
    "            group.liberties.difference_update(remove)\n",
    "\n",
    "        new_lib_count = len(group.liberties)\n",
    "        for s in group.stones:\n",
    "            self.liberty_cache[s] = new_lib_count\n",
    "\n",
    "    def _handle_captures(self, captured_stones):\n",
    "        for s in captured_stones:\n",
    "            for n in NEIGHBORS[s]:\n",
    "                group_id = self.group_index[n]\n",
    "                if group_id != MISSING_GROUP_ID:\n",
    "                    self._update_liberties(group_id, add={s})\n"
   ]
  },
  {
   "cell_type": "code",
   "execution_count": 18,
   "metadata": {
    "collapsed": true
   },
   "outputs": [],
   "source": [
    "class Position():\n",
    "    def __init__(self, board=None, n=0, komi=7.5, caps=(0, 0), lib_tracker=None, ko=None, recent=tuple(), to_play=BLACK):\n",
    "        '''\n",
    "        board: a numpy array\n",
    "        n: an int representing moves played so far\n",
    "        komi: a float, representing points given to the second player.\n",
    "        caps: a (int, int) tuple of captures for B, W.\n",
    "        lib_tracker: a LibertyTracker object\n",
    "        ko: a Move\n",
    "        recent: a tuple of PlayerMoves, such that recent[-1] is the last move.\n",
    "        to_play: BLACK or WHITE\n",
    "        '''\n",
    "        self.board = board if board is not None else np.copy(EMPTY_BOARD)\n",
    "        self.n = n\n",
    "        self.komi = komi\n",
    "        self.caps = caps\n",
    "        self.lib_tracker = lib_tracker or LibertyTracker.from_board(self.board)\n",
    "        self.ko = ko\n",
    "        self.recent = recent\n",
    "        self.to_play = to_play\n",
    "\n",
    "    def __deepcopy__(self, memodict={}):\n",
    "        new_board = np.copy(self.board)\n",
    "        new_lib_tracker = copy.deepcopy(self.lib_tracker)\n",
    "        return Position(new_board, self.n, self.komi, self.caps, new_lib_tracker, self.ko, self.recent, self.to_play)\n",
    "\n",
    "    def __str__(self):\n",
    "        pretty_print_map = {\n",
    "            WHITE: 'O',\n",
    "            EMPTY: '.',\n",
    "            BLACK: 'X',\n",
    "            FILL: '#',\n",
    "            KO: '*',\n",
    "        }\n",
    "        board = np.copy(self.board)\n",
    "        captures = self.caps\n",
    "        if self.ko is not None:\n",
    "            place_stones(board, KO, [self.ko])\n",
    "        raw_board_contents = []\n",
    "        for i in range(N):\n",
    "            row = []\n",
    "            for j in range(N):\n",
    "                appended = '<' if (self.recent and (i, j) == self.recent[-1].move) else ' '\n",
    "                row.append(pretty_print_map[board[i,j]] + appended)\n",
    "            raw_board_contents.append(''.join(row))\n",
    "\n",
    "        row_labels = ['%2d ' % i for i in range(N, 0, -1)]\n",
    "        annotated_board_contents = [''.join(r) for r in zip(row_labels, raw_board_contents, row_labels)]\n",
    "        header_footer_rows = ['   ' + ' '.join('ABCDEFGHJKLMNOPQRST'[:N]) + '   ']\n",
    "        annotated_board = '\\n'.join(itertools.chain(header_footer_rows, annotated_board_contents, header_footer_rows))\n",
    "        details = \"\\nMove: {}. Captures X: {} O: {}\\n\".format(self.n, *captures)\n",
    "        return annotated_board + details\n",
    "\n",
    "    def is_move_suicidal(self, move):\n",
    "        potential_libs = set()\n",
    "        for n in NEIGHBORS[move]:\n",
    "            neighbor_group_id = self.lib_tracker.group_index[n]\n",
    "            if neighbor_group_id == MISSING_GROUP_ID:\n",
    "                # at least one liberty after playing here, so not a suicide\n",
    "                return False\n",
    "            neighbor_group = self.lib_tracker.groups[neighbor_group_id]\n",
    "            if neighbor_group.color == self.to_play:\n",
    "                potential_libs |= neighbor_group.liberties\n",
    "            elif len(neighbor_group.liberties) == 1:\n",
    "                # would capture an opponent group if they only had one lib.\n",
    "                return False\n",
    "        # it's possible to suicide by connecting several friendly groups\n",
    "        # each of which had one liberty.\n",
    "        potential_libs -= set([move])\n",
    "        return not potential_libs\n",
    "\n",
    "    def is_move_legal(self, move):\n",
    "        'Checks that a move is on an empty space, not on ko, and not suicide'\n",
    "        if move is None:\n",
    "            return True\n",
    "        if self.board[move] != EMPTY:\n",
    "            return False\n",
    "        if move == self.ko:\n",
    "            return False\n",
    "        if self.is_move_suicidal(move):\n",
    "            return False\n",
    "\n",
    "        return True\n",
    "\n",
    "    def pass_move(self, mutate=False):\n",
    "        pos = self if mutate else copy.deepcopy(self)\n",
    "        pos.n += 1\n",
    "        pos.recent += (PlayerMove(pos.to_play, None),)\n",
    "        pos.to_play *= -1\n",
    "        pos.ko = None\n",
    "        return pos\n",
    "\n",
    "    def flip_playerturn(self, mutate=False):\n",
    "        pos = self if mutate else copy.deepcopy(self)\n",
    "        pos.ko = None\n",
    "        pos.to_play *= -1\n",
    "        return pos\n",
    "\n",
    "    def get_liberties(self):\n",
    "        return self.lib_tracker.liberty_cache\n",
    "\n",
    "    def play_move(self, c, color=None, mutate=False):\n",
    "        # Obeys CGOS Rules of Play. In short:\n",
    "        # No suicides\n",
    "        # Chinese/area scoring\n",
    "        # Positional superko (this is very crudely approximate at the moment.)\n",
    "        if color is None:\n",
    "            color = self.to_play\n",
    "\n",
    "        pos = self if mutate else copy.deepcopy(self)\n",
    "\n",
    "        if c is None:\n",
    "            pos = pos.pass_move(mutate=mutate)\n",
    "            return pos\n",
    "\n",
    "        if not self.is_move_legal(c):\n",
    "            raise IllegalMove()\n",
    "\n",
    "        place_stones(pos.board, color, [c])\n",
    "        captured_stones = pos.lib_tracker.add_stone(color, c)\n",
    "        place_stones(pos.board, EMPTY, captured_stones)\n",
    "\n",
    "        opp_color = color * -1\n",
    "\n",
    "        if len(captured_stones) == 1 and is_koish(self.board, c) == opp_color:\n",
    "            new_ko = list(captured_stones)[0]\n",
    "        else:\n",
    "            new_ko = None\n",
    "\n",
    "        if pos.to_play == BLACK:\n",
    "            new_caps = (pos.caps[0] + len(captured_stones), pos.caps[1])\n",
    "        else:\n",
    "            new_caps = (pos.caps[0], pos.caps[1] + len(captured_stones))\n",
    "\n",
    "        pos.n += 1\n",
    "        pos.caps = new_caps\n",
    "        pos.ko = new_ko\n",
    "        pos.recent += (PlayerMove(color, c),)\n",
    "        pos.to_play *= -1\n",
    "        return pos\n",
    "\n",
    "    def score(self):\n",
    "        working_board = np.copy(self.board)\n",
    "        while EMPTY in working_board:\n",
    "            unassigned_spaces = np.where(working_board == EMPTY)\n",
    "            c = unassigned_spaces[0][0], unassigned_spaces[1][0]\n",
    "            territory, borders = find_reached(working_board, c)\n",
    "            border_colors = set(working_board[b] for b in borders)\n",
    "            X_border = BLACK in border_colors\n",
    "            O_border = WHITE in border_colors\n",
    "            if X_border and not O_border:\n",
    "                territory_color = BLACK\n",
    "            elif O_border and not X_border:\n",
    "                territory_color = WHITE\n",
    "            else:\n",
    "                territory_color = UNKNOWN # dame, or seki\n",
    "            place_stones(working_board, territory_color, territory)\n",
    "\n",
    "        return np.count_nonzero(working_board == BLACK) - np.count_nonzero(working_board == WHITE) - self.komi\n",
    "\n",
    "    def result(self):\n",
    "        score = self.score()\n",
    "        if score > 0:\n",
    "            return 'B+' + '%.1f' % score\n",
    "        elif score < 0:\n",
    "            return 'W+' + '%.1f' % abs(score)\n",
    "        else:\n",
    "            return 'DRAW'"
   ]
  },
  {
   "cell_type": "code",
   "execution_count": 19,
   "metadata": {
    "collapsed": true
   },
   "outputs": [],
   "source": [
    "set_board_size(19)"
   ]
  },
  {
   "cell_type": "code",
   "execution_count": null,
   "metadata": {
    "collapsed": true
   },
   "outputs": [],
   "source": []
  }
 ],
 "metadata": {
  "kernelspec": {
   "display_name": "Python 3",
   "language": "python",
   "name": "python3"
  },
  "language_info": {
   "codemirror_mode": {
    "name": "ipython",
    "version": 3
   },
   "file_extension": ".py",
   "mimetype": "text/x-python",
   "name": "python",
   "nbconvert_exporter": "python",
   "pygments_lexer": "ipython3",
   "version": "3.5.2"
  }
 },
 "nbformat": 4,
 "nbformat_minor": 2
}
