{
 "cells": [
  {
   "cell_type": "code",
   "execution_count": 64,
   "metadata": {
    "collapsed": true
   },
   "outputs": [],
   "source": [
    "from collections import defaultdict\n",
    "import time\n",
    "import functools, operator\n",
    "import gtp\n",
    "import go"
   ]
  },
  {
   "cell_type": "code",
   "execution_count": 65,
   "metadata": {
    "collapsed": true
   },
   "outputs": [],
   "source": [
    "KGS_COLUMNS = 'ABCDEFGHJKLMNOPQRST'\n",
    "SGF_COLUMNS = \"abcdefghijklmnopqrstuvwxyzABCDEFGHIJKLMNOPQRSTUVWXYZ\""
   ]
  },
  {
   "cell_type": "code",
   "execution_count": 66,
   "metadata": {
    "collapsed": true
   },
   "outputs": [],
   "source": [
    "def parse_sgf_to_flat(sgf):\n",
    "    return flatten_coords(parse_sgf_coords(sgf))"
   ]
  },
  {
   "cell_type": "code",
   "execution_count": 67,
   "metadata": {
    "collapsed": true
   },
   "outputs": [],
   "source": [
    "def flatten_coords(c):\n",
    "    return go.N * c[0] + c[1]"
   ]
  },
  {
   "cell_type": "code",
   "execution_count": 68,
   "metadata": {
    "collapsed": true
   },
   "outputs": [],
   "source": [
    "def unflatten_coords(f):\n",
    "    return divmod(f, go.N)"
   ]
  },
  {
   "cell_type": "code",
   "execution_count": 69,
   "metadata": {
    "collapsed": true
   },
   "outputs": [],
   "source": [
    "def parse_sgf_coords(s):\n",
    "    'Interprets coords. aa is top left corner; sa is top right corner'\n",
    "    if s is None or s == '':\n",
    "        return None\n",
    "    return SGF_COLUMNS.index(s[1]), SGF_COLUMNS.index(s[0])"
   ]
  },
  {
   "cell_type": "code",
   "execution_count": 70,
   "metadata": {
    "collapsed": true
   },
   "outputs": [],
   "source": [
    "def parse_kgs_coords(s):\n",
    "    'Interprets coords. A1 is bottom left; A9 is top left.'\n",
    "    if s == 'pass':\n",
    "        return None\n",
    "    s = s.upper()\n",
    "    col = KGS_COLUMNS.index(s[0])\n",
    "    row_from_bottom = int(s[1:]) - 1\n",
    "    return go.N - row_from_bottom - 1, col"
   ]
  },
  {
   "cell_type": "code",
   "execution_count": 71,
   "metadata": {
    "collapsed": true
   },
   "outputs": [],
   "source": [
    "def parse_pygtp_coords(vertex):\n",
    "    'Interprets coords. (1, 1) is bottom left; (1, 9) is top left.'\n",
    "    if vertex in (gtp.PASS, gtp.RESIGN):\n",
    "        return None\n",
    "    return go.N - vertex[1], vertex[0] - 1"
   ]
  },
  {
   "cell_type": "code",
   "execution_count": 73,
   "metadata": {
    "collapsed": true
   },
   "outputs": [],
   "source": [
    "def unparse_pygtp_coords(c):\n",
    "    if c == gtp.RESIGN:\n",
    "        return gtp.RESIGN\n",
    "    if c is None:\n",
    "        return gtp.PASS\n",
    "    return c[1] + 1, go.N - c[0]"
   ]
  },
  {
   "cell_type": "code",
   "execution_count": 74,
   "metadata": {
    "collapsed": true
   },
   "outputs": [],
   "source": [
    "def product(numbers):\n",
    "    return functools.reduce(operator.mul, numbers)"
   ]
  },
  {
   "cell_type": "code",
   "execution_count": 75,
   "metadata": {
    "collapsed": true
   },
   "outputs": [],
   "source": [
    "class timer(object):\n",
    "    all_times = defaultdict(float)\n",
    "    def __init__(self, label):\n",
    "        self.label = label\n",
    "    def __enter__(self):\n",
    "        self.tick = time.time()\n",
    "    def __exit__(self, type, value, traceback):\n",
    "        self.tock = time.time()\n",
    "        self.all_times[self.label] += self.tock - self.tick\n",
    "    @classmethod\n",
    "    def print_times(cls):\n",
    "        for k, v in cls.all_times.items():\n",
    "            print(\"%s: %.3f\" % (k, v))"
   ]
  },
  {
   "cell_type": "code",
   "execution_count": null,
   "metadata": {
    "collapsed": true
   },
   "outputs": [],
   "source": []
  }
 ],
 "metadata": {
  "kernelspec": {
   "display_name": "Python 3",
   "language": "python",
   "name": "python3"
  },
  "language_info": {
   "codemirror_mode": {
    "name": "ipython",
    "version": 3
   },
   "file_extension": ".py",
   "mimetype": "text/x-python",
   "name": "python",
   "nbconvert_exporter": "python",
   "pygments_lexer": "ipython3",
   "version": "3.5.2"
  }
 },
 "nbformat": 4,
 "nbformat_minor": 2
}
