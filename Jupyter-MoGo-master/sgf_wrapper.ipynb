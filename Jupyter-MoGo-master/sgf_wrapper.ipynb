{
 "cells": [
  {
   "cell_type": "markdown",
   "metadata": {},
   "source": [
    "'''\n",
    "Code to extract a series of positions + their next moves from an SGF.\n",
    "\n",
    "Most of the complexity here is dealing with two features of SGF:\n",
    "- Stones can be added via \"play move\" or \"add move\", the latter being used\n",
    "  to configure L+D puzzles, but also for initial handicap placement.\n",
    "- Plays don't necessarily alternate colors; they can be repeated B or W moves\n",
    "  This feature is used to handle free handicap placement.\n",
    "'''"
   ]
  },
  {
   "cell_type": "code",
   "execution_count": 37,
   "metadata": {
    "collapsed": true
   },
   "outputs": [],
   "source": [
    "from collections import namedtuple\n",
    "import numpy as np"
   ]
  },
  {
   "cell_type": "code",
   "execution_count": 38,
   "metadata": {
    "collapsed": true
   },
   "outputs": [],
   "source": [
    "import go\n",
    "from go import Position\n",
    "from utils import parse_sgf_coords as pc\n",
    "import sgf"
   ]
  },
  {
   "cell_type": "code",
   "execution_count": 39,
   "metadata": {
    "collapsed": true
   },
   "outputs": [],
   "source": [
    "class GameMetadata(namedtuple(\"GameMetadata\", \"result handicap board_size\")):\n",
    "    pass"
   ]
  },
  {
   "cell_type": "code",
   "execution_count": 40,
   "metadata": {
    "collapsed": true
   },
   "outputs": [],
   "source": [
    "class PositionWithContext(namedtuple(\"SgfPosition\", \"position next_move metadata\")):\n",
    "    '''\n",
    "    Wrapper around go.Position.\n",
    "    Stores a position, the move that came next, and the eventual result.\n",
    "    '''\n",
    "    def is_usable(self):\n",
    "        return all([\n",
    "            self.position is not None,\n",
    "            self.next_move is not None,\n",
    "            self.metadata.result != \"Void\",\n",
    "            self.metadata.handicap <= 4,\n",
    "        ])\n",
    "\n",
    "    def __str__(self):\n",
    "        return str(self.position) + '\\nNext move: {} Result: {}'.format(self.next_move, self.result)"
   ]
  },
  {
   "cell_type": "code",
   "execution_count": 41,
   "metadata": {
    "collapsed": true
   },
   "outputs": [],
   "source": [
    "def sgf_prop(value_list):\n",
    "    'Converts raw sgf library output to sensible value'\n",
    "    if value_list is None:\n",
    "        return None\n",
    "    if len(value_list) == 1:\n",
    "        return value_list[0]\n",
    "    else:\n",
    "        return value_list"
   ]
  },
  {
   "cell_type": "code",
   "execution_count": 42,
   "metadata": {
    "collapsed": true
   },
   "outputs": [],
   "source": [
    "def sgf_prop_get(props, key, default):\n",
    "    return sgf_prop(props.get(key, default))"
   ]
  },
  {
   "cell_type": "code",
   "execution_count": 43,
   "metadata": {
    "collapsed": true
   },
   "outputs": [],
   "source": [
    "def handle_node(pos, node):\n",
    "    'A node can either add B+W stones, play as B, or play as W.'\n",
    "    props = node.properties\n",
    "    black_stones_added = [pc(coords) for coords in props.get('AB', [])]\n",
    "    white_stones_added = [pc(coords) for coords in props.get('AW', [])]\n",
    "    if black_stones_added or white_stones_added:\n",
    "        return add_stones(pos, black_stones_added, white_stones_added)\n",
    "    # If B/W props are not present, then there is no move. But if it is present and equal to the empty string, then the move was a pass.\n",
    "    elif 'B' in props:\n",
    "        black_move = pc(props.get('B', [''])[0])\n",
    "        return pos.play_move(black_move, color=go.BLACK)\n",
    "    elif 'W' in props:\n",
    "        white_move = pc(props.get('W', [''])[0])\n",
    "        return pos.play_move(white_move, color=go.WHITE)\n",
    "    else:\n",
    "        return pos"
   ]
  },
  {
   "cell_type": "code",
   "execution_count": 44,
   "metadata": {
    "collapsed": true
   },
   "outputs": [],
   "source": [
    "def add_stones(pos, black_stones_added, white_stones_added):\n",
    "    working_board = np.copy(pos.board)\n",
    "    go.place_stones(working_board, go.BLACK, black_stones_added)\n",
    "    go.place_stones(working_board, go.WHITE, white_stones_added)\n",
    "    new_position = Position(board=working_board, n=pos.n, komi=pos.komi, caps=pos.caps, ko=pos.ko, recent=pos.recent, to_play=pos.to_play)\n",
    "    return new_position"
   ]
  },
  {
   "cell_type": "code",
   "execution_count": 45,
   "metadata": {
    "collapsed": true
   },
   "outputs": [],
   "source": [
    "def get_next_move(node):\n",
    "    if not node.next:\n",
    "        return None\n",
    "    props = node.next.properties\n",
    "    if 'W' in props:\n",
    "        return pc(props['W'][0])\n",
    "    else:\n",
    "        return pc(props['B'][0])"
   ]
  },
  {
   "cell_type": "code",
   "execution_count": 46,
   "metadata": {
    "collapsed": true
   },
   "outputs": [],
   "source": [
    "def maybe_correct_next(pos, next_node):\n",
    "    if next_node is None:\n",
    "        return\n",
    "    if (('B' in next_node.properties and not pos.to_play == go.BLACK) or\n",
    "        ('W' in next_node.properties and not pos.to_play == go.WHITE)):\n",
    "        pos.flip_playerturn(mutate=True)"
   ]
  },
  {
   "cell_type": "code",
   "execution_count": 47,
   "metadata": {
    "collapsed": true
   },
   "outputs": [],
   "source": [
    "def replay_sgf(sgf_contents):\n",
    "    '''\n",
    "    Wrapper for sgf files, exposing contents as position_w_context instances\n",
    "    with open(filename) as f:\n",
    "        for position_w_context in replay_sgf(f.read()):\n",
    "            print(position_w_context.position)\n",
    "    '''\n",
    "    collection = sgf.parse(sgf_contents)\n",
    "    game = collection.children[0]\n",
    "    props = game.root.properties\n",
    "    assert int(sgf_prop(props.get('GM', ['1']))) == 1, \"Not a Go SGF!\"\n",
    "\n",
    "    komi = 0\n",
    "    if props.get('KM') != None:\n",
    "        komi = float(sgf_prop(props.get('KM')))\n",
    "    metadata = GameMetadata(\n",
    "        result=sgf_prop(props.get('RE')),\n",
    "        handicap=int(sgf_prop(props.get('HA', [0]))),\n",
    "        board_size=int(sgf_prop(props.get('SZ'))))\n",
    "    go.set_board_size(metadata.board_size)\n",
    "\n",
    "    pos = Position(komi=komi)\n",
    "    current_node = game.root\n",
    "    while pos is not None and current_node is not None:\n",
    "        pos = handle_node(pos, current_node)\n",
    "        maybe_correct_next(pos, current_node.next)\n",
    "        next_move = get_next_move(current_node)\n",
    "        yield PositionWithContext(pos, next_move, metadata)\n",
    "        current_node = current_node.next"
   ]
  },
  {
   "cell_type": "code",
   "execution_count": 48,
   "metadata": {
    "collapsed": true
   },
   "outputs": [],
   "source": [
    "def replay_position(position):\n",
    "    '''\n",
    "    Wrapper for a go.Position which replays its history.\n",
    "    Assumes an empty start position! (i.e. no handicap, and history must be exhaustive.)\n",
    "\n",
    "    for position_w_context in replay_position(position):\n",
    "        print(position_w_context.position)\n",
    "    '''\n",
    "    assert position.n == len(position.recent), \"Position history is incomplete\"\n",
    "    metadata = GameMetadata(\n",
    "        result=position.result(),\n",
    "        handicap=0,\n",
    "        board_size=position.board.shape[0]\n",
    "    )\n",
    "    go.set_board_size(metadata.board_size)\n",
    "\n",
    "    pos = Position(komi=position.komi)\n",
    "    for player_move in position.recent:\n",
    "        color, next_move = player_move\n",
    "        yield PositionWithContext(pos, next_move, metadata)\n",
    "        pos = pos.play_move(next_move, color=color)\n",
    "    # return the original position, with unknown next move\n",
    "    yield PositionWithContext(pos, None, metadata)"
   ]
  },
  {
   "cell_type": "code",
   "execution_count": null,
   "metadata": {
    "collapsed": true
   },
   "outputs": [],
   "source": []
  }
 ],
 "metadata": {
  "kernelspec": {
   "display_name": "Python 3",
   "language": "python",
   "name": "python3"
  },
  "language_info": {
   "codemirror_mode": {
    "name": "ipython",
    "version": 3
   },
   "file_extension": ".py",
   "mimetype": "text/x-python",
   "name": "python",
   "nbconvert_exporter": "python",
   "pygments_lexer": "ipython3",
   "version": "3.5.2"
  }
 },
 "nbformat": 4,
 "nbformat_minor": 2
}
